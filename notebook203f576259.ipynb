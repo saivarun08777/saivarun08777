{
 "cells": [
  {
   "cell_type": "code",
   "execution_count": 1,
   "id": "5721950e",
   "metadata": {
    "execution": {
     "iopub.execute_input": "2022-01-24T06:46:59.180668Z",
     "iopub.status.busy": "2022-01-24T06:46:59.175719Z",
     "iopub.status.idle": "2022-01-24T06:47:00.159575Z",
     "shell.execute_reply": "2022-01-24T06:47:00.158810Z",
     "shell.execute_reply.started": "2022-01-24T06:44:03.260699Z"
    },
    "id": "8VRVtvUTiQAE",
    "papermill": {
     "duration": 1.027487,
     "end_time": "2022-01-24T06:47:00.159740",
     "exception": false,
     "start_time": "2022-01-24T06:46:59.132253",
     "status": "completed"
    },
    "tags": []
   },
   "outputs": [],
   "source": [
    "import matplotlib.pyplot as plt\n",
    "import numpy as np\n",
    "import seaborn as sns\n",
    "import pandas as pd"
   ]
  },
  {
   "cell_type": "code",
   "execution_count": 2,
   "id": "6e47a91e",
   "metadata": {
    "execution": {
     "iopub.execute_input": "2022-01-24T06:47:00.248193Z",
     "iopub.status.busy": "2022-01-24T06:47:00.247609Z",
     "iopub.status.idle": "2022-01-24T06:47:00.249372Z",
     "shell.execute_reply": "2022-01-24T06:47:00.249855Z",
     "shell.execute_reply.started": "2022-01-24T06:44:03.268363Z"
    },
    "id": "LdXRUW_Fix3z",
    "papermill": {
     "duration": 0.052673,
     "end_time": "2022-01-24T06:47:00.250030",
     "exception": false,
     "start_time": "2022-01-24T06:47:00.197357",
     "status": "completed"
    },
    "tags": []
   },
   "outputs": [],
   "source": [
    "import warnings\n",
    "from warnings import filterwarnings\n",
    "filterwarnings('ignore')"
   ]
  },
  {
   "cell_type": "code",
   "execution_count": 3,
   "id": "3b7fed1c",
   "metadata": {
    "execution": {
     "iopub.execute_input": "2022-01-24T06:47:00.326659Z",
     "iopub.status.busy": "2022-01-24T06:47:00.326110Z",
     "iopub.status.idle": "2022-01-24T06:47:00.362575Z",
     "shell.execute_reply": "2022-01-24T06:47:00.363110Z",
     "shell.execute_reply.started": "2022-01-24T06:44:03.281810Z"
    },
    "id": "3ZMPx0cFlpZu",
    "papermill": {
     "duration": 0.076624,
     "end_time": "2022-01-24T06:47:00.363292",
     "exception": false,
     "start_time": "2022-01-24T06:47:00.286668",
     "status": "completed"
    },
    "tags": []
   },
   "outputs": [],
   "source": [
    "train_data = pd.read_csv('../input/spam-or-nonspam/SMS_train.csv', encoding='unicode_escape', names=['message', 'label'])\n",
    "test_data = pd.read_csv('../input/spam-or-nonspam/SMS_test.csv', encoding='unicode_escape', names=['message', 'label'])"
   ]
  },
  {
   "cell_type": "code",
   "execution_count": 4,
   "id": "313e506e",
   "metadata": {
    "execution": {
     "iopub.execute_input": "2022-01-24T06:47:00.440878Z",
     "iopub.status.busy": "2022-01-24T06:47:00.440346Z",
     "iopub.status.idle": "2022-01-24T06:47:00.456501Z",
     "shell.execute_reply": "2022-01-24T06:47:00.456952Z",
     "shell.execute_reply.started": "2022-01-24T06:44:03.314828Z"
    },
    "id": "6JVV0qSomM3n",
    "outputId": "e324abb8-4c7c-4835-8a30-35aedb6e96a1",
    "papermill": {
     "duration": 0.056114,
     "end_time": "2022-01-24T06:47:00.457117",
     "exception": false,
     "start_time": "2022-01-24T06:47:00.401003",
     "status": "completed"
    },
    "tags": []
   },
   "outputs": [
    {
     "data": {
      "text/html": [
       "<div>\n",
       "<style scoped>\n",
       "    .dataframe tbody tr th:only-of-type {\n",
       "        vertical-align: middle;\n",
       "    }\n",
       "\n",
       "    .dataframe tbody tr th {\n",
       "        vertical-align: top;\n",
       "    }\n",
       "\n",
       "    .dataframe thead th {\n",
       "        text-align: right;\n",
       "    }\n",
       "</style>\n",
       "<table border=\"1\" class=\"dataframe\">\n",
       "  <thead>\n",
       "    <tr style=\"text-align: right;\">\n",
       "      <th></th>\n",
       "      <th>message</th>\n",
       "      <th>label</th>\n",
       "    </tr>\n",
       "  </thead>\n",
       "  <tbody>\n",
       "    <tr>\n",
       "      <th>0</th>\n",
       "      <td>Rofl. Its true to its name</td>\n",
       "      <td>Non-Spam</td>\n",
       "    </tr>\n",
       "    <tr>\n",
       "      <th>1</th>\n",
       "      <td>The guy did some bitching but I acted like i'd...</td>\n",
       "      <td>Non-Spam</td>\n",
       "    </tr>\n",
       "    <tr>\n",
       "      <th>2</th>\n",
       "      <td>Pity, * was in mood for that. So...any other s...</td>\n",
       "      <td>Non-Spam</td>\n",
       "    </tr>\n",
       "    <tr>\n",
       "      <th>3</th>\n",
       "      <td>Will ü b going to esplanade fr home?</td>\n",
       "      <td>Non-Spam</td>\n",
       "    </tr>\n",
       "    <tr>\n",
       "      <th>4</th>\n",
       "      <td>This is the 2nd time we have tried 2 contact u...</td>\n",
       "      <td>Spam</td>\n",
       "    </tr>\n",
       "  </tbody>\n",
       "</table>\n",
       "</div>"
      ],
      "text/plain": [
       "                                             message     label\n",
       "0                         Rofl. Its true to its name  Non-Spam\n",
       "1  The guy did some bitching but I acted like i'd...  Non-Spam\n",
       "2  Pity, * was in mood for that. So...any other s...  Non-Spam\n",
       "3               Will ü b going to esplanade fr home?  Non-Spam\n",
       "4  This is the 2nd time we have tried 2 contact u...      Spam"
      ]
     },
     "execution_count": 4,
     "metadata": {},
     "output_type": "execute_result"
    }
   ],
   "source": [
    "train_data.head()"
   ]
  },
  {
   "cell_type": "code",
   "execution_count": 5,
   "id": "fcfa7103",
   "metadata": {
    "execution": {
     "iopub.execute_input": "2022-01-24T06:47:00.535481Z",
     "iopub.status.busy": "2022-01-24T06:47:00.534911Z",
     "iopub.status.idle": "2022-01-24T06:47:00.543449Z",
     "shell.execute_reply": "2022-01-24T06:47:00.542987Z",
     "shell.execute_reply.started": "2022-01-24T06:44:03.336276Z"
    },
    "id": "sWdCWTbGmX_W",
    "outputId": "5ef0d0e4-49c2-4183-9fc9-fb0ed8c3f0b0",
    "papermill": {
     "duration": 0.048503,
     "end_time": "2022-01-24T06:47:00.543576",
     "exception": false,
     "start_time": "2022-01-24T06:47:00.495073",
     "status": "completed"
    },
    "tags": []
   },
   "outputs": [
    {
     "data": {
      "text/html": [
       "<div>\n",
       "<style scoped>\n",
       "    .dataframe tbody tr th:only-of-type {\n",
       "        vertical-align: middle;\n",
       "    }\n",
       "\n",
       "    .dataframe tbody tr th {\n",
       "        vertical-align: top;\n",
       "    }\n",
       "\n",
       "    .dataframe thead th {\n",
       "        text-align: right;\n",
       "    }\n",
       "</style>\n",
       "<table border=\"1\" class=\"dataframe\">\n",
       "  <thead>\n",
       "    <tr style=\"text-align: right;\">\n",
       "      <th></th>\n",
       "      <th>message</th>\n",
       "      <th>label</th>\n",
       "    </tr>\n",
       "  </thead>\n",
       "  <tbody>\n",
       "    <tr>\n",
       "      <th>0</th>\n",
       "      <td>UpgrdCentre Orange customer, you may now claim...</td>\n",
       "      <td>Spam</td>\n",
       "    </tr>\n",
       "    <tr>\n",
       "      <th>1</th>\n",
       "      <td>Loan for any purpose £500 - £75,000. Homeowner...</td>\n",
       "      <td>Spam</td>\n",
       "    </tr>\n",
       "    <tr>\n",
       "      <th>2</th>\n",
       "      <td>Congrats! Nokia 3650 video camera phone is you...</td>\n",
       "      <td>Spam</td>\n",
       "    </tr>\n",
       "    <tr>\n",
       "      <th>3</th>\n",
       "      <td>URGENT! Your Mobile number has been awarded wi...</td>\n",
       "      <td>Spam</td>\n",
       "    </tr>\n",
       "    <tr>\n",
       "      <th>4</th>\n",
       "      <td>Someone has contacted our dating service and e...</td>\n",
       "      <td>Spam</td>\n",
       "    </tr>\n",
       "  </tbody>\n",
       "</table>\n",
       "</div>"
      ],
      "text/plain": [
       "                                             message label\n",
       "0  UpgrdCentre Orange customer, you may now claim...  Spam\n",
       "1  Loan for any purpose £500 - £75,000. Homeowner...  Spam\n",
       "2  Congrats! Nokia 3650 video camera phone is you...  Spam\n",
       "3  URGENT! Your Mobile number has been awarded wi...  Spam\n",
       "4  Someone has contacted our dating service and e...  Spam"
      ]
     },
     "execution_count": 5,
     "metadata": {},
     "output_type": "execute_result"
    }
   ],
   "source": [
    "test_data.head()"
   ]
  },
  {
   "cell_type": "code",
   "execution_count": 6,
   "id": "8509f31f",
   "metadata": {
    "execution": {
     "iopub.execute_input": "2022-01-24T06:47:00.627786Z",
     "iopub.status.busy": "2022-01-24T06:47:00.627196Z",
     "iopub.status.idle": "2022-01-24T06:47:00.630501Z",
     "shell.execute_reply": "2022-01-24T06:47:00.630066Z",
     "shell.execute_reply.started": "2022-01-24T06:44:03.348447Z"
    },
    "id": "Gp0AZ8AkmbDm",
    "outputId": "2db344f9-8921-49cc-b2ff-eda46f5a2fb0",
    "papermill": {
     "duration": 0.049342,
     "end_time": "2022-01-24T06:47:00.630634",
     "exception": false,
     "start_time": "2022-01-24T06:47:00.581292",
     "status": "completed"
    },
    "tags": []
   },
   "outputs": [
    {
     "data": {
      "text/plain": [
       "<bound method DataFrame.info of                                                message     label\n",
       "0                           Rofl. Its true to its name  Non-Spam\n",
       "1    The guy did some bitching but I acted like i'd...  Non-Spam\n",
       "2    Pity, * was in mood for that. So...any other s...  Non-Spam\n",
       "3                 Will ü b going to esplanade fr home?  Non-Spam\n",
       "4    This is the 2nd time we have tried 2 contact u...      Spam\n",
       "..                                                 ...       ...\n",
       "952  hows my favourite person today? r u workin har...  Non-Spam\n",
       "953                      How much you got for cleaning  Non-Spam\n",
       "954  Sorry da. I gone mad so many pending works wha...  Non-Spam\n",
       "955                                 Wat time ü finish?  Non-Spam\n",
       "956                    Just glad to be talking to you.  Non-Spam\n",
       "\n",
       "[957 rows x 2 columns]>"
      ]
     },
     "execution_count": 6,
     "metadata": {},
     "output_type": "execute_result"
    }
   ],
   "source": [
    "train_data.info"
   ]
  },
  {
   "cell_type": "code",
   "execution_count": 7,
   "id": "dbcd73bc",
   "metadata": {
    "execution": {
     "iopub.execute_input": "2022-01-24T06:47:00.714835Z",
     "iopub.status.busy": "2022-01-24T06:47:00.714230Z",
     "iopub.status.idle": "2022-01-24T06:47:00.716627Z",
     "shell.execute_reply": "2022-01-24T06:47:00.717204Z",
     "shell.execute_reply.started": "2022-01-24T06:44:03.367929Z"
    },
    "id": "phX30OFvmf2N",
    "outputId": "c17c12e8-69d0-4ba3-80b9-769c6fead81a",
    "papermill": {
     "duration": 0.048869,
     "end_time": "2022-01-24T06:47:00.717389",
     "exception": false,
     "start_time": "2022-01-24T06:47:00.668520",
     "status": "completed"
    },
    "tags": []
   },
   "outputs": [
    {
     "data": {
      "text/plain": [
       "<bound method DataFrame.info of                                                message     label\n",
       "0    UpgrdCentre Orange customer, you may now claim...      Spam\n",
       "1    Loan for any purpose £500 - £75,000. Homeowner...      Spam\n",
       "2    Congrats! Nokia 3650 video camera phone is you...      Spam\n",
       "3    URGENT! Your Mobile number has been awarded wi...      Spam\n",
       "4    Someone has contacted our dating service and e...      Spam\n",
       "..                                                 ...       ...\n",
       "120  7 wonders in My WORLD 7th You 6th Ur style 5th...  Non-Spam\n",
       "121  Try to do something dear. You read something f...  Non-Spam\n",
       "122  Sun ah... Thk mayb can if dun have anythin on....  Non-Spam\n",
       "123  SYMPTOMS when U are in love: \"1.U like listeni...  Non-Spam\n",
       "124  Great. Have a safe trip. Dont panic surrender ...  Non-Spam\n",
       "\n",
       "[125 rows x 2 columns]>"
      ]
     },
     "execution_count": 7,
     "metadata": {},
     "output_type": "execute_result"
    }
   ],
   "source": [
    "test_data.info"
   ]
  },
  {
   "cell_type": "code",
   "execution_count": 8,
   "id": "da5a9fef",
   "metadata": {
    "execution": {
     "iopub.execute_input": "2022-01-24T06:47:00.797735Z",
     "iopub.status.busy": "2022-01-24T06:47:00.797135Z",
     "iopub.status.idle": "2022-01-24T06:47:00.801732Z",
     "shell.execute_reply": "2022-01-24T06:47:00.802258Z",
     "shell.execute_reply.started": "2022-01-24T06:44:03.379621Z"
    },
    "id": "pc8FOtCamjfc",
    "outputId": "b54c2697-a465-4555-b731-8f19ec7820b3",
    "papermill": {
     "duration": 0.046543,
     "end_time": "2022-01-24T06:47:00.802427",
     "exception": false,
     "start_time": "2022-01-24T06:47:00.755884",
     "status": "completed"
    },
    "tags": []
   },
   "outputs": [
    {
     "data": {
      "text/plain": [
       "(957, 2)"
      ]
     },
     "execution_count": 8,
     "metadata": {},
     "output_type": "execute_result"
    }
   ],
   "source": [
    "train_data.shape"
   ]
  },
  {
   "cell_type": "code",
   "execution_count": 9,
   "id": "80044d9e",
   "metadata": {
    "execution": {
     "iopub.execute_input": "2022-01-24T06:47:00.881993Z",
     "iopub.status.busy": "2022-01-24T06:47:00.881455Z",
     "iopub.status.idle": "2022-01-24T06:47:00.886343Z",
     "shell.execute_reply": "2022-01-24T06:47:00.886912Z",
     "shell.execute_reply.started": "2022-01-24T06:44:03.390859Z"
    },
    "id": "MJCugoJ8mnus",
    "outputId": "ae820a51-3f6d-4103-d4a2-31126fb25d9e",
    "papermill": {
     "duration": 0.046422,
     "end_time": "2022-01-24T06:47:00.887125",
     "exception": false,
     "start_time": "2022-01-24T06:47:00.840703",
     "status": "completed"
    },
    "tags": []
   },
   "outputs": [
    {
     "data": {
      "text/plain": [
       "(125, 2)"
      ]
     },
     "execution_count": 9,
     "metadata": {},
     "output_type": "execute_result"
    }
   ],
   "source": [
    "test_data.shape"
   ]
  },
  {
   "cell_type": "code",
   "execution_count": 10,
   "id": "697c2adc",
   "metadata": {
    "execution": {
     "iopub.execute_input": "2022-01-24T06:47:00.989592Z",
     "iopub.status.busy": "2022-01-24T06:47:00.988992Z",
     "iopub.status.idle": "2022-01-24T06:47:00.994645Z",
     "shell.execute_reply": "2022-01-24T06:47:00.995185Z",
     "shell.execute_reply.started": "2022-01-24T06:44:03.401093Z"
    },
    "id": "Bf1VVEuGmqPU",
    "outputId": "054c1b6a-9ed0-454a-882e-9f070067d167",
    "papermill": {
     "duration": 0.064132,
     "end_time": "2022-01-24T06:47:00.995355",
     "exception": false,
     "start_time": "2022-01-24T06:47:00.931223",
     "status": "completed"
    },
    "tags": []
   },
   "outputs": [
    {
     "data": {
      "text/plain": [
       "Index(['message', 'label'], dtype='object')"
      ]
     },
     "execution_count": 10,
     "metadata": {},
     "output_type": "execute_result"
    }
   ],
   "source": [
    "train_data.columns"
   ]
  },
  {
   "cell_type": "code",
   "execution_count": 11,
   "id": "fcfe35d8",
   "metadata": {
    "execution": {
     "iopub.execute_input": "2022-01-24T06:47:01.088499Z",
     "iopub.status.busy": "2022-01-24T06:47:01.087594Z",
     "iopub.status.idle": "2022-01-24T06:47:01.092755Z",
     "shell.execute_reply": "2022-01-24T06:47:01.093195Z",
     "shell.execute_reply.started": "2022-01-24T06:44:03.414697Z"
    },
    "id": "kuEi1OeOmt8c",
    "outputId": "83e18bc9-8093-4014-88b6-23838d48c9da",
    "papermill": {
     "duration": 0.050271,
     "end_time": "2022-01-24T06:47:01.093365",
     "exception": false,
     "start_time": "2022-01-24T06:47:01.043094",
     "status": "completed"
    },
    "tags": []
   },
   "outputs": [
    {
     "data": {
      "text/plain": [
       "Index(['message', 'label'], dtype='object')"
      ]
     },
     "execution_count": 11,
     "metadata": {},
     "output_type": "execute_result"
    }
   ],
   "source": [
    "test_data.columns"
   ]
  },
  {
   "cell_type": "code",
   "execution_count": 12,
   "id": "5749ecab",
   "metadata": {
    "execution": {
     "iopub.execute_input": "2022-01-24T06:47:01.178728Z",
     "iopub.status.busy": "2022-01-24T06:47:01.177878Z",
     "iopub.status.idle": "2022-01-24T06:47:01.189214Z",
     "shell.execute_reply": "2022-01-24T06:47:01.189990Z",
     "shell.execute_reply.started": "2022-01-24T06:44:03.427309Z"
    },
    "id": "EnkMaNLhmxzt",
    "outputId": "000c8519-997c-4ca6-87c3-7482f0c188ed",
    "papermill": {
     "duration": 0.055967,
     "end_time": "2022-01-24T06:47:01.190255",
     "exception": false,
     "start_time": "2022-01-24T06:47:01.134288",
     "status": "completed"
    },
    "tags": []
   },
   "outputs": [
    {
     "name": "stdout",
     "output_type": "stream",
     "text": [
      "Non-Spam\n",
      "Spam\n"
     ]
    }
   ],
   "source": [
    "for i in train_data['label'].unique():\n",
    "    print(i)"
   ]
  },
  {
   "cell_type": "code",
   "execution_count": 13,
   "id": "9c82f9e7",
   "metadata": {
    "execution": {
     "iopub.execute_input": "2022-01-24T06:47:01.276173Z",
     "iopub.status.busy": "2022-01-24T06:47:01.275452Z",
     "iopub.status.idle": "2022-01-24T06:47:01.278662Z",
     "shell.execute_reply": "2022-01-24T06:47:01.278238Z",
     "shell.execute_reply.started": "2022-01-24T06:44:03.447621Z"
    },
    "id": "liZBhMLwm7Bg",
    "outputId": "81fc96c6-705a-4044-af4b-8838ac8f9267",
    "papermill": {
     "duration": 0.047616,
     "end_time": "2022-01-24T06:47:01.278802",
     "exception": false,
     "start_time": "2022-01-24T06:47:01.231186",
     "status": "completed"
    },
    "tags": []
   },
   "outputs": [
    {
     "name": "stdout",
     "output_type": "stream",
     "text": [
      "Spam\n",
      "Non-Spam\n"
     ]
    }
   ],
   "source": [
    "for i in test_data['label'].unique():\n",
    "  print(i)"
   ]
  },
  {
   "cell_type": "code",
   "execution_count": 14,
   "id": "a712b665",
   "metadata": {
    "execution": {
     "iopub.execute_input": "2022-01-24T06:47:01.360833Z",
     "iopub.status.busy": "2022-01-24T06:47:01.360279Z",
     "iopub.status.idle": "2022-01-24T06:47:01.367988Z",
     "shell.execute_reply": "2022-01-24T06:47:01.368473Z",
     "shell.execute_reply.started": "2022-01-24T06:44:03.463113Z"
    },
    "id": "gMfmVDJgnFrO",
    "outputId": "95b68c5e-7cf5-4989-e49b-c2f8cb38245f",
    "papermill": {
     "duration": 0.050327,
     "end_time": "2022-01-24T06:47:01.368641",
     "exception": false,
     "start_time": "2022-01-24T06:47:01.318314",
     "status": "completed"
    },
    "tags": []
   },
   "outputs": [
    {
     "name": "stdout",
     "output_type": "stream",
     "text": [
      "835\n",
      "2\n"
     ]
    }
   ],
   "source": [
    "for i in train_data.loc[train_data['label'] == 'Non-Spam'].shape:\n",
    "    print(i)"
   ]
  },
  {
   "cell_type": "code",
   "execution_count": 15,
   "id": "cd8c745d",
   "metadata": {
    "execution": {
     "iopub.execute_input": "2022-01-24T06:47:01.454745Z",
     "iopub.status.busy": "2022-01-24T06:47:01.451555Z",
     "iopub.status.idle": "2022-01-24T06:47:01.457965Z",
     "shell.execute_reply": "2022-01-24T06:47:01.458791Z",
     "shell.execute_reply.started": "2022-01-24T06:44:03.476433Z"
    },
    "id": "xZ7uOg6snXTR",
    "outputId": "749cfda7-f0b1-4654-d726-3b8b146c4633",
    "papermill": {
     "duration": 0.050352,
     "end_time": "2022-01-24T06:47:01.459075",
     "exception": false,
     "start_time": "2022-01-24T06:47:01.408723",
     "status": "completed"
    },
    "tags": []
   },
   "outputs": [
    {
     "name": "stdout",
     "output_type": "stream",
     "text": [
      "76\n",
      "2\n"
     ]
    }
   ],
   "source": [
    "for i in test_data.loc[test_data['label'] == 'Spam'].shape:\n",
    "  print(i)"
   ]
  },
  {
   "cell_type": "code",
   "execution_count": 16,
   "id": "04d32a0a",
   "metadata": {
    "execution": {
     "iopub.execute_input": "2022-01-24T06:47:01.549979Z",
     "iopub.status.busy": "2022-01-24T06:47:01.549381Z",
     "iopub.status.idle": "2022-01-24T06:47:01.552134Z",
     "shell.execute_reply": "2022-01-24T06:47:01.552565Z",
     "shell.execute_reply.started": "2022-01-24T06:44:03.488407Z"
    },
    "id": "I0X9QvfAnmyG",
    "outputId": "b8f4a3ca-69f7-4f0d-8837-5c4abcc2df7f",
    "papermill": {
     "duration": 0.050645,
     "end_time": "2022-01-24T06:47:01.552726",
     "exception": false,
     "start_time": "2022-01-24T06:47:01.502081",
     "status": "completed"
    },
    "tags": []
   },
   "outputs": [
    {
     "data": {
      "text/plain": [
       "message    0\n",
       "label      0\n",
       "dtype: int64"
      ]
     },
     "execution_count": 16,
     "metadata": {},
     "output_type": "execute_result"
    }
   ],
   "source": [
    "train_data.isnull().sum()"
   ]
  },
  {
   "cell_type": "code",
   "execution_count": 17,
   "id": "3f911ae8",
   "metadata": {
    "execution": {
     "iopub.execute_input": "2022-01-24T06:47:01.641673Z",
     "iopub.status.busy": "2022-01-24T06:47:01.641055Z",
     "iopub.status.idle": "2022-01-24T06:47:01.643316Z",
     "shell.execute_reply": "2022-01-24T06:47:01.643834Z",
     "shell.execute_reply.started": "2022-01-24T06:44:03.503268Z"
    },
    "id": "wd6dt8oQnw5f",
    "outputId": "5e274e55-9c2d-48ac-b98a-8a632e3ce4e6",
    "papermill": {
     "duration": 0.050236,
     "end_time": "2022-01-24T06:47:01.644012",
     "exception": false,
     "start_time": "2022-01-24T06:47:01.593776",
     "status": "completed"
    },
    "tags": []
   },
   "outputs": [
    {
     "data": {
      "text/plain": [
       "message    0\n",
       "label      0\n",
       "dtype: int64"
      ]
     },
     "execution_count": 17,
     "metadata": {},
     "output_type": "execute_result"
    }
   ],
   "source": [
    "test_data.isnull().sum()"
   ]
  },
  {
   "cell_type": "code",
   "execution_count": 18,
   "id": "40b3746f",
   "metadata": {
    "execution": {
     "iopub.execute_input": "2022-01-24T06:47:01.732674Z",
     "iopub.status.busy": "2022-01-24T06:47:01.732067Z",
     "iopub.status.idle": "2022-01-24T06:47:01.734646Z",
     "shell.execute_reply": "2022-01-24T06:47:01.735105Z",
     "shell.execute_reply.started": "2022-01-24T06:44:03.514084Z"
    },
    "id": "B76SNKWsn01u",
    "outputId": "a3092509-5f23-4838-8961-fe9f16fe5ea9",
    "papermill": {
     "duration": 0.050196,
     "end_time": "2022-01-24T06:47:01.735269",
     "exception": false,
     "start_time": "2022-01-24T06:47:01.685073",
     "status": "completed"
    },
    "tags": []
   },
   "outputs": [
    {
     "data": {
      "text/plain": [
       "message    object\n",
       "label      object\n",
       "dtype: object"
      ]
     },
     "execution_count": 18,
     "metadata": {},
     "output_type": "execute_result"
    }
   ],
   "source": [
    "train_data.dtypes"
   ]
  },
  {
   "cell_type": "code",
   "execution_count": 19,
   "id": "bc912e33",
   "metadata": {
    "execution": {
     "iopub.execute_input": "2022-01-24T06:47:01.823411Z",
     "iopub.status.busy": "2022-01-24T06:47:01.822765Z",
     "iopub.status.idle": "2022-01-24T06:47:01.825130Z",
     "shell.execute_reply": "2022-01-24T06:47:01.825576Z",
     "shell.execute_reply.started": "2022-01-24T06:44:03.525194Z"
    },
    "id": "cPeWTYSLn6cd",
    "outputId": "7f97f6fb-797e-49a7-9db1-4e6829f51cf9",
    "papermill": {
     "duration": 0.049339,
     "end_time": "2022-01-24T06:47:01.825739",
     "exception": false,
     "start_time": "2022-01-24T06:47:01.776400",
     "status": "completed"
    },
    "tags": []
   },
   "outputs": [
    {
     "data": {
      "text/plain": [
       "message    object\n",
       "label      object\n",
       "dtype: object"
      ]
     },
     "execution_count": 19,
     "metadata": {},
     "output_type": "execute_result"
    }
   ],
   "source": [
    "test_data.dtypes"
   ]
  },
  {
   "cell_type": "code",
   "execution_count": 20,
   "id": "dcf89de1",
   "metadata": {
    "execution": {
     "iopub.execute_input": "2022-01-24T06:47:01.920139Z",
     "iopub.status.busy": "2022-01-24T06:47:01.917577Z",
     "iopub.status.idle": "2022-01-24T06:47:02.121302Z",
     "shell.execute_reply": "2022-01-24T06:47:02.121698Z",
     "shell.execute_reply.started": "2022-01-24T06:44:03.537141Z"
    },
    "id": "utzDisRin-Cl",
    "outputId": "a7711623-292e-495b-e016-be3220ed333d",
    "papermill": {
     "duration": 0.254575,
     "end_time": "2022-01-24T06:47:02.121863",
     "exception": false,
     "start_time": "2022-01-24T06:47:01.867288",
     "status": "completed"
    },
    "tags": []
   },
   "outputs": [
    {
     "data": {
      "text/plain": [
       "<AxesSubplot:xlabel='label', ylabel='count'>"
      ]
     },
     "execution_count": 20,
     "metadata": {},
     "output_type": "execute_result"
    },
    {
     "data": {
      "image/png": "[encoded data removed]",
      "text/plain": [
       "<Figure size 432x288 with 1 Axes>"
      ]
     },
     "metadata": {
      "needs_background": "light"
     },
     "output_type": "display_data"
    }
   ],
   "source": [
    "sns.countplot(train_data['label'], palette='pastel')"
   ]
  },
  {
   "cell_type": "code",
   "execution_count": 21,
   "id": "3f0523ba",
   "metadata": {
    "execution": {
     "iopub.execute_input": "2022-01-24T06:47:02.239956Z",
     "iopub.status.busy": "2022-01-24T06:47:02.230664Z",
     "iopub.status.idle": "2022-01-24T06:47:02.387236Z",
     "shell.execute_reply": "2022-01-24T06:47:02.387648Z",
     "shell.execute_reply.started": "2022-01-24T06:44:03.768728Z"
    },
    "id": "4WwQpeRFoQ7u",
    "outputId": "c0c3c794-c426-4cd2-b884-3574dd228b5f",
    "papermill": {
     "duration": 0.223163,
     "end_time": "2022-01-24T06:47:02.387819",
     "exception": false,
     "start_time": "2022-01-24T06:47:02.164656",
     "status": "completed"
    },
    "tags": []
   },
   "outputs": [
    {
     "data": {
      "text/plain": [
       "<AxesSubplot:xlabel='label', ylabel='count'>"
      ]
     },
     "execution_count": 21,
     "metadata": {},
     "output_type": "execute_result"
    },
    {
     "data": {
      "image/png": "[encoded data removed]",
      "text/plain": [
       "<Figure size 432x288 with 1 Axes>"
      ]
     },
     "metadata": {
      "needs_background": "light"
     },
     "output_type": "display_data"
    }
   ],
   "source": [
    "sns.countplot(test_data['label'], palette='husl')"
   ]
  },
  {
   "cell_type": "code",
   "execution_count": 22,
   "id": "f834331d",
   "metadata": {
    "execution": {
     "iopub.execute_input": "2022-01-24T06:47:02.479721Z",
     "iopub.status.busy": "2022-01-24T06:47:02.478995Z",
     "iopub.status.idle": "2022-01-24T06:47:03.169822Z",
     "shell.execute_reply": "2022-01-24T06:47:03.169286Z",
     "shell.execute_reply.started": "2022-01-24T06:44:03.956241Z"
    },
    "id": "zJA8Ffrpocp2",
    "papermill": {
     "duration": 0.739216,
     "end_time": "2022-01-24T06:47:03.169988",
     "exception": false,
     "start_time": "2022-01-24T06:47:02.430772",
     "status": "completed"
    },
    "tags": []
   },
   "outputs": [],
   "source": [
    "import string\n",
    "from nltk.corpus import stopwords"
   ]
  },
  {
   "cell_type": "code",
   "execution_count": 23,
   "id": "55a9489c",
   "metadata": {
    "execution": {
     "iopub.execute_input": "2022-01-24T06:47:03.270258Z",
     "iopub.status.busy": "2022-01-24T06:47:03.259861Z",
     "iopub.status.idle": "2022-01-24T06:47:23.304514Z",
     "shell.execute_reply": "2022-01-24T06:47:23.303912Z",
     "shell.execute_reply.started": "2022-01-24T06:44:04.683082Z"
    },
    "id": "Tb-d5UyrosrV",
    "outputId": "2456d189-5846-4fd3-fe39-f577907ffa4d",
    "papermill": {
     "duration": 20.090599,
     "end_time": "2022-01-24T06:47:23.304657",
     "exception": false,
     "start_time": "2022-01-24T06:47:03.214058",
     "status": "completed"
    },
    "tags": []
   },
   "outputs": [
    {
     "name": "stdout",
     "output_type": "stream",
     "text": [
      "[nltk_data] Error loading stopwords: <urlopen error [Errno -3]\n",
      "[nltk_data]     Temporary failure in name resolution>\n"
     ]
    },
    {
     "data": {
      "text/plain": [
       "False"
      ]
     },
     "execution_count": 23,
     "metadata": {},
     "output_type": "execute_result"
    }
   ],
   "source": [
    "import nltk\n",
    "nltk.download('stopwords')"
   ]
  },
  {
   "cell_type": "code",
   "execution_count": 24,
   "id": "81e2983a",
   "metadata": {
    "execution": {
     "iopub.execute_input": "2022-01-24T06:47:23.396823Z",
     "iopub.status.busy": "2022-01-24T06:47:23.395838Z",
     "iopub.status.idle": "2022-01-24T06:47:23.401486Z",
     "shell.execute_reply": "2022-01-24T06:47:23.402023Z",
     "shell.execute_reply.started": "2022-01-24T06:44:24.728948Z"
    },
    "id": "Il4s3GjDoz6l",
    "papermill": {
     "duration": 0.052752,
     "end_time": "2022-01-24T06:47:23.402206",
     "exception": false,
     "start_time": "2022-01-24T06:47:23.349454",
     "status": "completed"
    },
    "tags": []
   },
   "outputs": [],
   "source": [
    "def text_process(msg):\n",
    "    nopunc = [char for char in msg if char not in string.punctuation]\n",
    "    nopunc = ''.join(nopunc)\n",
    "    return [word.lower() for word in nopunc.split() if word.lower() not in stopwords.words('english')]"
   ]
  },
  {
   "cell_type": "code",
   "execution_count": 25,
   "id": "67c11fff",
   "metadata": {
    "execution": {
     "iopub.execute_input": "2022-01-24T06:47:23.493882Z",
     "iopub.status.busy": "2022-01-24T06:47:23.492877Z",
     "iopub.status.idle": "2022-01-24T06:47:23.517725Z",
     "shell.execute_reply": "2022-01-24T06:47:23.518384Z",
     "shell.execute_reply.started": "2022-01-24T06:44:24.738215Z"
    },
    "id": "_4SAX0HCo8A2",
    "outputId": "1b63ffcc-2d36-4e2d-f10d-2e54b6b85bf7",
    "papermill": {
     "duration": 0.072086,
     "end_time": "2022-01-24T06:47:23.518569",
     "exception": false,
     "start_time": "2022-01-24T06:47:23.446483",
     "status": "completed"
    },
    "tags": []
   },
   "outputs": [
    {
     "data": {
      "text/plain": [
       "0                                   [rofl, true, name]\n",
       "1    [guy, bitching, acted, like, id, interested, b...\n",
       "2                     [pity, mood, soany, suggestions]\n",
       "3                   [ü, b, going, esplanade, fr, home]\n",
       "4    [2nd, time, tried, 2, contact, u, u, £750, pou...\n",
       "Name: message, dtype: object"
      ]
     },
     "execution_count": 25,
     "metadata": {},
     "output_type": "execute_result"
    }
   ],
   "source": [
    "train_data['message'].head().apply(text_process)"
   ]
  },
  {
   "cell_type": "code",
   "execution_count": 26,
   "id": "0c6dc7a1",
   "metadata": {
    "execution": {
     "iopub.execute_input": "2022-01-24T06:47:23.611494Z",
     "iopub.status.busy": "2022-01-24T06:47:23.610493Z",
     "iopub.status.idle": "2022-01-24T06:47:25.200137Z",
     "shell.execute_reply": "2022-01-24T06:47:25.199555Z",
     "shell.execute_reply.started": "2022-01-24T06:44:24.773690Z"
    },
    "id": "vhjt5rkvpSKN",
    "papermill": {
     "duration": 1.636634,
     "end_time": "2022-01-24T06:47:25.200293",
     "exception": false,
     "start_time": "2022-01-24T06:47:23.563659",
     "status": "completed"
    },
    "tags": []
   },
   "outputs": [],
   "source": [
    "train_data['message']=train_data['message'].apply(text_process)"
   ]
  },
  {
   "cell_type": "code",
   "execution_count": 27,
   "id": "b89e270e",
   "metadata": {
    "execution": {
     "iopub.execute_input": "2022-01-24T06:47:25.303343Z",
     "iopub.status.busy": "2022-01-24T06:47:25.302399Z",
     "iopub.status.idle": "2022-01-24T06:47:25.306729Z",
     "shell.execute_reply": "2022-01-24T06:47:25.306228Z",
     "shell.execute_reply.started": "2022-01-24T06:44:26.609811Z"
    },
    "id": "M9VFLJA4pr8i",
    "outputId": "828b5997-2c84-481e-c83e-bd3bc0af2fcc",
    "papermill": {
     "duration": 0.061572,
     "end_time": "2022-01-24T06:47:25.306870",
     "exception": false,
     "start_time": "2022-01-24T06:47:25.245298",
     "status": "completed"
    },
    "tags": []
   },
   "outputs": [
    {
     "data": {
      "text/html": [
       "<div>\n",
       "<style scoped>\n",
       "    .dataframe tbody tr th:only-of-type {\n",
       "        vertical-align: middle;\n",
       "    }\n",
       "\n",
       "    .dataframe tbody tr th {\n",
       "        vertical-align: top;\n",
       "    }\n",
       "\n",
       "    .dataframe thead th {\n",
       "        text-align: right;\n",
       "    }\n",
       "</style>\n",
       "<table border=\"1\" class=\"dataframe\">\n",
       "  <thead>\n",
       "    <tr style=\"text-align: right;\">\n",
       "      <th></th>\n",
       "      <th>message</th>\n",
       "      <th>label</th>\n",
       "    </tr>\n",
       "  </thead>\n",
       "  <tbody>\n",
       "    <tr>\n",
       "      <th>0</th>\n",
       "      <td>[rofl, true, name]</td>\n",
       "      <td>Non-Spam</td>\n",
       "    </tr>\n",
       "    <tr>\n",
       "      <th>1</th>\n",
       "      <td>[guy, bitching, acted, like, id, interested, b...</td>\n",
       "      <td>Non-Spam</td>\n",
       "    </tr>\n",
       "    <tr>\n",
       "      <th>2</th>\n",
       "      <td>[pity, mood, soany, suggestions]</td>\n",
       "      <td>Non-Spam</td>\n",
       "    </tr>\n",
       "    <tr>\n",
       "      <th>3</th>\n",
       "      <td>[ü, b, going, esplanade, fr, home]</td>\n",
       "      <td>Non-Spam</td>\n",
       "    </tr>\n",
       "    <tr>\n",
       "      <th>4</th>\n",
       "      <td>[2nd, time, tried, 2, contact, u, u, £750, pou...</td>\n",
       "      <td>Spam</td>\n",
       "    </tr>\n",
       "    <tr>\n",
       "      <th>5</th>\n",
       "      <td>[reminder, o2, get, 250, pounds, free, call, c...</td>\n",
       "      <td>Spam</td>\n",
       "    </tr>\n",
       "    <tr>\n",
       "      <th>6</th>\n",
       "      <td>[huh, lei]</td>\n",
       "      <td>Non-Spam</td>\n",
       "    </tr>\n",
       "    <tr>\n",
       "      <th>7</th>\n",
       "      <td>[dont, wait, til, least, wednesday, see, get]</td>\n",
       "      <td>Non-Spam</td>\n",
       "    </tr>\n",
       "    <tr>\n",
       "      <th>8</th>\n",
       "      <td>[ard, 6, like, dat, lor]</td>\n",
       "      <td>Non-Spam</td>\n",
       "    </tr>\n",
       "    <tr>\n",
       "      <th>9</th>\n",
       "      <td>[ok, lor, sony, ericsson, salesman, ask, shuhu...</td>\n",
       "      <td>Non-Spam</td>\n",
       "    </tr>\n",
       "  </tbody>\n",
       "</table>\n",
       "</div>"
      ],
      "text/plain": [
       "                                             message     label\n",
       "0                                 [rofl, true, name]  Non-Spam\n",
       "1  [guy, bitching, acted, like, id, interested, b...  Non-Spam\n",
       "2                   [pity, mood, soany, suggestions]  Non-Spam\n",
       "3                 [ü, b, going, esplanade, fr, home]  Non-Spam\n",
       "4  [2nd, time, tried, 2, contact, u, u, £750, pou...      Spam\n",
       "5  [reminder, o2, get, 250, pounds, free, call, c...      Spam\n",
       "6                                         [huh, lei]  Non-Spam\n",
       "7      [dont, wait, til, least, wednesday, see, get]  Non-Spam\n",
       "8                           [ard, 6, like, dat, lor]  Non-Spam\n",
       "9  [ok, lor, sony, ericsson, salesman, ask, shuhu...  Non-Spam"
      ]
     },
     "execution_count": 27,
     "metadata": {},
     "output_type": "execute_result"
    }
   ],
   "source": [
    "train_data.head(10)"
   ]
  },
  {
   "cell_type": "code",
   "execution_count": 28,
   "id": "173a0124",
   "metadata": {
    "execution": {
     "iopub.execute_input": "2022-01-24T06:47:25.401051Z",
     "iopub.status.busy": "2022-01-24T06:47:25.400056Z",
     "iopub.status.idle": "2022-01-24T06:47:25.404035Z",
     "shell.execute_reply": "2022-01-24T06:47:25.404615Z",
     "shell.execute_reply.started": "2022-01-24T06:44:26.629436Z"
    },
    "id": "ewjRJjTupw5j",
    "papermill": {
     "duration": 0.053001,
     "end_time": "2022-01-24T06:47:25.404786",
     "exception": false,
     "start_time": "2022-01-24T06:47:25.351785",
     "status": "completed"
    },
    "tags": []
   },
   "outputs": [],
   "source": [
    "from nltk.stem import WordNetLemmatizer"
   ]
  },
  {
   "cell_type": "code",
   "execution_count": 29,
   "id": "800d6746",
   "metadata": {
    "execution": {
     "iopub.execute_input": "2022-01-24T06:47:25.497732Z",
     "iopub.status.busy": "2022-01-24T06:47:25.497143Z",
     "iopub.status.idle": "2022-01-24T06:47:25.499266Z",
     "shell.execute_reply": "2022-01-24T06:47:25.499730Z",
     "shell.execute_reply.started": "2022-01-24T06:44:26.639955Z"
    },
    "id": "0YXuvy5OqJ2c",
    "papermill": {
     "duration": 0.050696,
     "end_time": "2022-01-24T06:47:25.499899",
     "exception": false,
     "start_time": "2022-01-24T06:47:25.449203",
     "status": "completed"
    },
    "tags": []
   },
   "outputs": [],
   "source": [
    "wnl = WordNetLemmatizer()"
   ]
  },
  {
   "cell_type": "code",
   "execution_count": 30,
   "id": "7a54537f",
   "metadata": {
    "execution": {
     "iopub.execute_input": "2022-01-24T06:47:25.592111Z",
     "iopub.status.busy": "2022-01-24T06:47:25.591426Z",
     "iopub.status.idle": "2022-01-24T06:47:45.626767Z",
     "shell.execute_reply": "2022-01-24T06:47:45.627298Z",
     "shell.execute_reply.started": "2022-01-24T06:44:26.653765Z"
    },
    "id": "x569qu7FqOhP",
    "outputId": "61485a77-bbd8-4b8d-bc53-c218177dad0f",
    "papermill": {
     "duration": 20.083301,
     "end_time": "2022-01-24T06:47:45.627490",
     "exception": false,
     "start_time": "2022-01-24T06:47:25.544189",
     "status": "completed"
    },
    "tags": []
   },
   "outputs": [
    {
     "name": "stdout",
     "output_type": "stream",
     "text": [
      "[nltk_data] Error loading wordnet: <urlopen error [Errno -3] Temporary\n",
      "[nltk_data]     failure in name resolution>\n"
     ]
    },
    {
     "data": {
      "text/plain": [
       "False"
      ]
     },
     "execution_count": 30,
     "metadata": {},
     "output_type": "execute_result"
    }
   ],
   "source": [
    "import nltk\n",
    "nltk.download('wordnet')"
   ]
  },
  {
   "cell_type": "code",
   "execution_count": 31,
   "id": "c6c86795",
   "metadata": {
    "execution": {
     "iopub.execute_input": "2022-01-24T06:47:45.726040Z",
     "iopub.status.busy": "2022-01-24T06:47:45.725368Z",
     "iopub.status.idle": "2022-01-24T06:47:45.729014Z",
     "shell.execute_reply": "2022-01-24T06:47:45.729484Z",
     "shell.execute_reply.started": "2022-01-24T06:44:46.698083Z"
    },
    "id": "p89sQRy-qQU1",
    "papermill": {
     "duration": 0.056084,
     "end_time": "2022-01-24T06:47:45.729659",
     "exception": false,
     "start_time": "2022-01-24T06:47:45.673575",
     "status": "completed"
    },
    "tags": []
   },
   "outputs": [],
   "source": [
    "def process2(message):\n",
    "  reslist = []\n",
    "  for i in message:\n",
    "    lower = i.lower()\n",
    "    reslist.append(wnl.lemmatize(lower))\n",
    "  return reslist\n"
   ]
  },
  {
   "cell_type": "code",
   "execution_count": 32,
   "id": "abc8a61b",
   "metadata": {
    "execution": {
     "iopub.execute_input": "2022-01-24T06:47:45.830248Z",
     "iopub.status.busy": "2022-01-24T06:47:45.829502Z",
     "iopub.status.idle": "2022-01-24T06:47:47.595246Z",
     "shell.execute_reply": "2022-01-24T06:47:47.594729Z",
     "shell.execute_reply.started": "2022-01-24T06:44:46.706335Z"
    },
    "id": "px3h9lo6qUKw",
    "papermill": {
     "duration": 1.819587,
     "end_time": "2022-01-24T06:47:47.595395",
     "exception": false,
     "start_time": "2022-01-24T06:47:45.775808",
     "status": "completed"
    },
    "tags": []
   },
   "outputs": [],
   "source": [
    "train_data['message'] = train_data['message'].apply(process2)"
   ]
  },
  {
   "cell_type": "code",
   "execution_count": 33,
   "id": "3d4eb55a",
   "metadata": {
    "execution": {
     "iopub.execute_input": "2022-01-24T06:47:47.689968Z",
     "iopub.status.busy": "2022-01-24T06:47:47.689063Z",
     "iopub.status.idle": "2022-01-24T06:47:47.697603Z",
     "shell.execute_reply": "2022-01-24T06:47:47.698048Z",
     "shell.execute_reply.started": "2022-01-24T06:44:48.918123Z"
    },
    "id": "pe1ZSkHyqbMG",
    "outputId": "7f54c8fe-27ad-4023-ef12-c1519a0dbf25",
    "papermill": {
     "duration": 0.057074,
     "end_time": "2022-01-24T06:47:47.698229",
     "exception": false,
     "start_time": "2022-01-24T06:47:47.641155",
     "status": "completed"
    },
    "tags": []
   },
   "outputs": [
    {
     "data": {
      "text/html": [
       "<div>\n",
       "<style scoped>\n",
       "    .dataframe tbody tr th:only-of-type {\n",
       "        vertical-align: middle;\n",
       "    }\n",
       "\n",
       "    .dataframe tbody tr th {\n",
       "        vertical-align: top;\n",
       "    }\n",
       "\n",
       "    .dataframe thead th {\n",
       "        text-align: right;\n",
       "    }\n",
       "</style>\n",
       "<table border=\"1\" class=\"dataframe\">\n",
       "  <thead>\n",
       "    <tr style=\"text-align: right;\">\n",
       "      <th></th>\n",
       "      <th>message</th>\n",
       "      <th>label</th>\n",
       "    </tr>\n",
       "  </thead>\n",
       "  <tbody>\n",
       "    <tr>\n",
       "      <th>0</th>\n",
       "      <td>UpgrdCentre Orange customer, you may now claim...</td>\n",
       "      <td>Spam</td>\n",
       "    </tr>\n",
       "    <tr>\n",
       "      <th>1</th>\n",
       "      <td>Loan for any purpose £500 - £75,000. Homeowner...</td>\n",
       "      <td>Spam</td>\n",
       "    </tr>\n",
       "    <tr>\n",
       "      <th>2</th>\n",
       "      <td>Congrats! Nokia 3650 video camera phone is you...</td>\n",
       "      <td>Spam</td>\n",
       "    </tr>\n",
       "    <tr>\n",
       "      <th>3</th>\n",
       "      <td>URGENT! Your Mobile number has been awarded wi...</td>\n",
       "      <td>Spam</td>\n",
       "    </tr>\n",
       "    <tr>\n",
       "      <th>4</th>\n",
       "      <td>Someone has contacted our dating service and e...</td>\n",
       "      <td>Spam</td>\n",
       "    </tr>\n",
       "  </tbody>\n",
       "</table>\n",
       "</div>"
      ],
      "text/plain": [
       "                                             message label\n",
       "0  UpgrdCentre Orange customer, you may now claim...  Spam\n",
       "1  Loan for any purpose £500 - £75,000. Homeowner...  Spam\n",
       "2  Congrats! Nokia 3650 video camera phone is you...  Spam\n",
       "3  URGENT! Your Mobile number has been awarded wi...  Spam\n",
       "4  Someone has contacted our dating service and e...  Spam"
      ]
     },
     "execution_count": 33,
     "metadata": {},
     "output_type": "execute_result"
    }
   ],
   "source": [
    "test_data.head()"
   ]
  },
  {
   "cell_type": "code",
   "execution_count": 34,
   "id": "cad14aa5",
   "metadata": {
    "execution": {
     "iopub.execute_input": "2022-01-24T06:47:47.792355Z",
     "iopub.status.busy": "2022-01-24T06:47:47.791454Z",
     "iopub.status.idle": "2022-01-24T06:47:48.100606Z",
     "shell.execute_reply": "2022-01-24T06:47:48.100047Z",
     "shell.execute_reply.started": "2022-01-24T06:44:48.932462Z"
    },
    "id": "39gwGjTiqtCc",
    "papermill": {
     "duration": 0.357077,
     "end_time": "2022-01-24T06:47:48.100755",
     "exception": false,
     "start_time": "2022-01-24T06:47:47.743678",
     "status": "completed"
    },
    "tags": []
   },
   "outputs": [],
   "source": [
    "test_data['message']=test_data['message'].apply(text_process)"
   ]
  },
  {
   "cell_type": "code",
   "execution_count": 35,
   "id": "0b91c99f",
   "metadata": {
    "execution": {
     "iopub.execute_input": "2022-01-24T06:47:48.202220Z",
     "iopub.status.busy": "2022-01-24T06:47:48.201609Z",
     "iopub.status.idle": "2022-01-24T06:47:48.204025Z",
     "shell.execute_reply": "2022-01-24T06:47:48.204419Z",
     "shell.execute_reply.started": "2022-01-24T06:44:49.274075Z"
    },
    "id": "7lejNixKqowM",
    "outputId": "fc471d59-2276-4af6-fa2b-3f63b05e1086",
    "papermill": {
     "duration": 0.058487,
     "end_time": "2022-01-24T06:47:48.204583",
     "exception": false,
     "start_time": "2022-01-24T06:47:48.146096",
     "status": "completed"
    },
    "tags": []
   },
   "outputs": [
    {
     "data": {
      "text/html": [
       "<div>\n",
       "<style scoped>\n",
       "    .dataframe tbody tr th:only-of-type {\n",
       "        vertical-align: middle;\n",
       "    }\n",
       "\n",
       "    .dataframe tbody tr th {\n",
       "        vertical-align: top;\n",
       "    }\n",
       "\n",
       "    .dataframe thead th {\n",
       "        text-align: right;\n",
       "    }\n",
       "</style>\n",
       "<table border=\"1\" class=\"dataframe\">\n",
       "  <thead>\n",
       "    <tr style=\"text-align: right;\">\n",
       "      <th></th>\n",
       "      <th>message</th>\n",
       "      <th>label</th>\n",
       "    </tr>\n",
       "  </thead>\n",
       "  <tbody>\n",
       "    <tr>\n",
       "      <th>0</th>\n",
       "      <td>[upgrdcentre, orange, customer, may, claim, fr...</td>\n",
       "      <td>Spam</td>\n",
       "    </tr>\n",
       "    <tr>\n",
       "      <th>1</th>\n",
       "      <td>[loan, purpose, £500, £75000, homeowners, tena...</td>\n",
       "      <td>Spam</td>\n",
       "    </tr>\n",
       "    <tr>\n",
       "      <th>2</th>\n",
       "      <td>[congrats, nokia, 3650, video, camera, phone, ...</td>\n",
       "      <td>Spam</td>\n",
       "    </tr>\n",
       "    <tr>\n",
       "      <th>3</th>\n",
       "      <td>[urgent, mobile, number, awarded, £2000, prize...</td>\n",
       "      <td>Spam</td>\n",
       "    </tr>\n",
       "    <tr>\n",
       "      <th>4</th>\n",
       "      <td>[someone, contacted, dating, service, entered,...</td>\n",
       "      <td>Spam</td>\n",
       "    </tr>\n",
       "  </tbody>\n",
       "</table>\n",
       "</div>"
      ],
      "text/plain": [
       "                                             message label\n",
       "0  [upgrdcentre, orange, customer, may, claim, fr...  Spam\n",
       "1  [loan, purpose, £500, £75000, homeowners, tena...  Spam\n",
       "2  [congrats, nokia, 3650, video, camera, phone, ...  Spam\n",
       "3  [urgent, mobile, number, awarded, £2000, prize...  Spam\n",
       "4  [someone, contacted, dating, service, entered,...  Spam"
      ]
     },
     "execution_count": 35,
     "metadata": {},
     "output_type": "execute_result"
    }
   ],
   "source": [
    "test_data.head()"
   ]
  },
  {
   "cell_type": "code",
   "execution_count": 36,
   "id": "87fbef85",
   "metadata": {
    "execution": {
     "iopub.execute_input": "2022-01-24T06:47:48.300050Z",
     "iopub.status.busy": "2022-01-24T06:47:48.299438Z",
     "iopub.status.idle": "2022-01-24T06:47:48.313057Z",
     "shell.execute_reply": "2022-01-24T06:47:48.312439Z",
     "shell.execute_reply.started": "2022-01-24T06:44:49.287838Z"
    },
    "id": "A2veF2hsq7HV",
    "papermill": {
     "duration": 0.062238,
     "end_time": "2022-01-24T06:47:48.313189",
     "exception": false,
     "start_time": "2022-01-24T06:47:48.250951",
     "status": "completed"
    },
    "tags": []
   },
   "outputs": [],
   "source": [
    "test_data['message'] = test_data['message'].apply(process2)"
   ]
  },
  {
   "cell_type": "code",
   "execution_count": 37,
   "id": "483ad573",
   "metadata": {
    "execution": {
     "iopub.execute_input": "2022-01-24T06:47:48.416198Z",
     "iopub.status.busy": "2022-01-24T06:47:48.415295Z",
     "iopub.status.idle": "2022-01-24T06:47:48.419425Z",
     "shell.execute_reply": "2022-01-24T06:47:48.418805Z",
     "shell.execute_reply.started": "2022-01-24T06:44:49.310608Z"
    },
    "id": "fLjMvlt3rXww",
    "outputId": "a4d1a48b-40ab-4826-ce3f-55b37a880c85",
    "papermill": {
     "duration": 0.060949,
     "end_time": "2022-01-24T06:47:48.419567",
     "exception": false,
     "start_time": "2022-01-24T06:47:48.358618",
     "status": "completed"
    },
    "tags": []
   },
   "outputs": [
    {
     "data": {
      "text/html": [
       "<div>\n",
       "<style scoped>\n",
       "    .dataframe tbody tr th:only-of-type {\n",
       "        vertical-align: middle;\n",
       "    }\n",
       "\n",
       "    .dataframe tbody tr th {\n",
       "        vertical-align: top;\n",
       "    }\n",
       "\n",
       "    .dataframe thead th {\n",
       "        text-align: right;\n",
       "    }\n",
       "</style>\n",
       "<table border=\"1\" class=\"dataframe\">\n",
       "  <thead>\n",
       "    <tr style=\"text-align: right;\">\n",
       "      <th></th>\n",
       "      <th>message</th>\n",
       "      <th>label</th>\n",
       "    </tr>\n",
       "  </thead>\n",
       "  <tbody>\n",
       "    <tr>\n",
       "      <th>0</th>\n",
       "      <td>[upgrdcentre, orange, customer, may, claim, fr...</td>\n",
       "      <td>Spam</td>\n",
       "    </tr>\n",
       "    <tr>\n",
       "      <th>1</th>\n",
       "      <td>[loan, purpose, £500, £75000, homeowner, tenan...</td>\n",
       "      <td>Spam</td>\n",
       "    </tr>\n",
       "    <tr>\n",
       "      <th>2</th>\n",
       "      <td>[congrats, nokia, 3650, video, camera, phone, ...</td>\n",
       "      <td>Spam</td>\n",
       "    </tr>\n",
       "    <tr>\n",
       "      <th>3</th>\n",
       "      <td>[urgent, mobile, number, awarded, £2000, prize...</td>\n",
       "      <td>Spam</td>\n",
       "    </tr>\n",
       "    <tr>\n",
       "      <th>4</th>\n",
       "      <td>[someone, contacted, dating, service, entered,...</td>\n",
       "      <td>Spam</td>\n",
       "    </tr>\n",
       "  </tbody>\n",
       "</table>\n",
       "</div>"
      ],
      "text/plain": [
       "                                             message label\n",
       "0  [upgrdcentre, orange, customer, may, claim, fr...  Spam\n",
       "1  [loan, purpose, £500, £75000, homeowner, tenan...  Spam\n",
       "2  [congrats, nokia, 3650, video, camera, phone, ...  Spam\n",
       "3  [urgent, mobile, number, awarded, £2000, prize...  Spam\n",
       "4  [someone, contacted, dating, service, entered,...  Spam"
      ]
     },
     "execution_count": 37,
     "metadata": {},
     "output_type": "execute_result"
    }
   ],
   "source": [
    "test_data.head()"
   ]
  },
  {
   "cell_type": "code",
   "execution_count": 38,
   "id": "4900c8ac",
   "metadata": {
    "execution": {
     "iopub.execute_input": "2022-01-24T06:47:48.516991Z",
     "iopub.status.busy": "2022-01-24T06:47:48.515985Z",
     "iopub.status.idle": "2022-01-24T06:47:48.521671Z",
     "shell.execute_reply": "2022-01-24T06:47:48.522156Z",
     "shell.execute_reply.started": "2022-01-24T06:44:49.330813Z"
    },
    "id": "L8LNMpvNrbS2",
    "papermill": {
     "duration": 0.05591,
     "end_time": "2022-01-24T06:47:48.522325",
     "exception": false,
     "start_time": "2022-01-24T06:47:48.466415",
     "status": "completed"
    },
    "tags": []
   },
   "outputs": [],
   "source": [
    "train = train_data.loc[:957]"
   ]
  },
  {
   "cell_type": "code",
   "execution_count": 39,
   "id": "b299a246",
   "metadata": {
    "execution": {
     "iopub.execute_input": "2022-01-24T06:47:48.619605Z",
     "iopub.status.busy": "2022-01-24T06:47:48.618909Z",
     "iopub.status.idle": "2022-01-24T06:47:48.622598Z",
     "shell.execute_reply": "2022-01-24T06:47:48.623116Z",
     "shell.execute_reply.started": "2022-01-24T06:44:49.337930Z"
    },
    "id": "0QU0Of6hr1K_",
    "papermill": {
     "duration": 0.054011,
     "end_time": "2022-01-24T06:47:48.623291",
     "exception": false,
     "start_time": "2022-01-24T06:47:48.569280",
     "status": "completed"
    },
    "tags": []
   },
   "outputs": [],
   "source": [
    "test = test_data.loc[:125]"
   ]
  },
  {
   "cell_type": "code",
   "execution_count": 40,
   "id": "2f32d172",
   "metadata": {
    "execution": {
     "iopub.execute_input": "2022-01-24T06:47:48.719548Z",
     "iopub.status.busy": "2022-01-24T06:47:48.718918Z",
     "iopub.status.idle": "2022-01-24T06:47:48.731696Z",
     "shell.execute_reply": "2022-01-24T06:47:48.732292Z",
     "shell.execute_reply.started": "2022-01-24T06:44:49.350438Z"
    },
    "id": "yecjBkt3sCSn",
    "outputId": "db4449f3-4cc3-401d-b3a8-a0ec64984e92",
    "papermill": {
     "duration": 0.062213,
     "end_time": "2022-01-24T06:47:48.732482",
     "exception": false,
     "start_time": "2022-01-24T06:47:48.670269",
     "status": "completed"
    },
    "tags": []
   },
   "outputs": [
    {
     "data": {
      "text/html": [
       "<div>\n",
       "<style scoped>\n",
       "    .dataframe tbody tr th:only-of-type {\n",
       "        vertical-align: middle;\n",
       "    }\n",
       "\n",
       "    .dataframe tbody tr th {\n",
       "        vertical-align: top;\n",
       "    }\n",
       "\n",
       "    .dataframe thead th {\n",
       "        text-align: right;\n",
       "    }\n",
       "</style>\n",
       "<table border=\"1\" class=\"dataframe\">\n",
       "  <thead>\n",
       "    <tr style=\"text-align: right;\">\n",
       "      <th></th>\n",
       "      <th>message</th>\n",
       "      <th>label</th>\n",
       "    </tr>\n",
       "  </thead>\n",
       "  <tbody>\n",
       "    <tr>\n",
       "      <th>0</th>\n",
       "      <td>[rofl, true, name]</td>\n",
       "      <td>Non-Spam</td>\n",
       "    </tr>\n",
       "    <tr>\n",
       "      <th>1</th>\n",
       "      <td>[guy, bitching, acted, like, id, interested, b...</td>\n",
       "      <td>Non-Spam</td>\n",
       "    </tr>\n",
       "    <tr>\n",
       "      <th>2</th>\n",
       "      <td>[pity, mood, soany, suggestion]</td>\n",
       "      <td>Non-Spam</td>\n",
       "    </tr>\n",
       "    <tr>\n",
       "      <th>3</th>\n",
       "      <td>[ü, b, going, esplanade, fr, home]</td>\n",
       "      <td>Non-Spam</td>\n",
       "    </tr>\n",
       "    <tr>\n",
       "      <th>4</th>\n",
       "      <td>[2nd, time, tried, 2, contact, u, u, £750, pou...</td>\n",
       "      <td>Spam</td>\n",
       "    </tr>\n",
       "    <tr>\n",
       "      <th>...</th>\n",
       "      <td>...</td>\n",
       "      <td>...</td>\n",
       "    </tr>\n",
       "    <tr>\n",
       "      <th>952</th>\n",
       "      <td>[hows, favourite, person, today, r, u, workin,...</td>\n",
       "      <td>Non-Spam</td>\n",
       "    </tr>\n",
       "    <tr>\n",
       "      <th>953</th>\n",
       "      <td>[much, got, cleaning]</td>\n",
       "      <td>Non-Spam</td>\n",
       "    </tr>\n",
       "    <tr>\n",
       "      <th>954</th>\n",
       "      <td>[sorry, da, gone, mad, many, pending, work]</td>\n",
       "      <td>Non-Spam</td>\n",
       "    </tr>\n",
       "    <tr>\n",
       "      <th>955</th>\n",
       "      <td>[wat, time, ü, finish]</td>\n",
       "      <td>Non-Spam</td>\n",
       "    </tr>\n",
       "    <tr>\n",
       "      <th>956</th>\n",
       "      <td>[glad, talking]</td>\n",
       "      <td>Non-Spam</td>\n",
       "    </tr>\n",
       "  </tbody>\n",
       "</table>\n",
       "<p>957 rows × 2 columns</p>\n",
       "</div>"
      ],
      "text/plain": [
       "                                               message     label\n",
       "0                                   [rofl, true, name]  Non-Spam\n",
       "1    [guy, bitching, acted, like, id, interested, b...  Non-Spam\n",
       "2                      [pity, mood, soany, suggestion]  Non-Spam\n",
       "3                   [ü, b, going, esplanade, fr, home]  Non-Spam\n",
       "4    [2nd, time, tried, 2, contact, u, u, £750, pou...      Spam\n",
       "..                                                 ...       ...\n",
       "952  [hows, favourite, person, today, r, u, workin,...  Non-Spam\n",
       "953                              [much, got, cleaning]  Non-Spam\n",
       "954        [sorry, da, gone, mad, many, pending, work]  Non-Spam\n",
       "955                             [wat, time, ü, finish]  Non-Spam\n",
       "956                                    [glad, talking]  Non-Spam\n",
       "\n",
       "[957 rows x 2 columns]"
      ]
     },
     "execution_count": 40,
     "metadata": {},
     "output_type": "execute_result"
    }
   ],
   "source": [
    "train"
   ]
  },
  {
   "cell_type": "code",
   "execution_count": 41,
   "id": "d42301b0",
   "metadata": {
    "execution": {
     "iopub.execute_input": "2022-01-24T06:47:48.829495Z",
     "iopub.status.busy": "2022-01-24T06:47:48.828843Z",
     "iopub.status.idle": "2022-01-24T06:47:48.841813Z",
     "shell.execute_reply": "2022-01-24T06:47:48.842328Z",
     "shell.execute_reply.started": "2022-01-24T06:44:49.374074Z"
    },
    "id": "lo2ZNpjTsMM2",
    "outputId": "0d8b50e8-a91f-4e99-81fb-5d41253040c6",
    "papermill": {
     "duration": 0.062245,
     "end_time": "2022-01-24T06:47:48.842503",
     "exception": false,
     "start_time": "2022-01-24T06:47:48.780258",
     "status": "completed"
    },
    "tags": []
   },
   "outputs": [
    {
     "data": {
      "text/html": [
       "<div>\n",
       "<style scoped>\n",
       "    .dataframe tbody tr th:only-of-type {\n",
       "        vertical-align: middle;\n",
       "    }\n",
       "\n",
       "    .dataframe tbody tr th {\n",
       "        vertical-align: top;\n",
       "    }\n",
       "\n",
       "    .dataframe thead th {\n",
       "        text-align: right;\n",
       "    }\n",
       "</style>\n",
       "<table border=\"1\" class=\"dataframe\">\n",
       "  <thead>\n",
       "    <tr style=\"text-align: right;\">\n",
       "      <th></th>\n",
       "      <th>message</th>\n",
       "      <th>label</th>\n",
       "    </tr>\n",
       "  </thead>\n",
       "  <tbody>\n",
       "    <tr>\n",
       "      <th>0</th>\n",
       "      <td>[upgrdcentre, orange, customer, may, claim, fr...</td>\n",
       "      <td>Spam</td>\n",
       "    </tr>\n",
       "    <tr>\n",
       "      <th>1</th>\n",
       "      <td>[loan, purpose, £500, £75000, homeowner, tenan...</td>\n",
       "      <td>Spam</td>\n",
       "    </tr>\n",
       "    <tr>\n",
       "      <th>2</th>\n",
       "      <td>[congrats, nokia, 3650, video, camera, phone, ...</td>\n",
       "      <td>Spam</td>\n",
       "    </tr>\n",
       "    <tr>\n",
       "      <th>3</th>\n",
       "      <td>[urgent, mobile, number, awarded, £2000, prize...</td>\n",
       "      <td>Spam</td>\n",
       "    </tr>\n",
       "    <tr>\n",
       "      <th>4</th>\n",
       "      <td>[someone, contacted, dating, service, entered,...</td>\n",
       "      <td>Spam</td>\n",
       "    </tr>\n",
       "    <tr>\n",
       "      <th>...</th>\n",
       "      <td>...</td>\n",
       "      <td>...</td>\n",
       "    </tr>\n",
       "    <tr>\n",
       "      <th>120</th>\n",
       "      <td>[7, wonder, world, 7th, 6th, ur, style, 5th, u...</td>\n",
       "      <td>Non-Spam</td>\n",
       "    </tr>\n",
       "    <tr>\n",
       "      <th>121</th>\n",
       "      <td>[try, something, dear, read, something, exam]</td>\n",
       "      <td>Non-Spam</td>\n",
       "    </tr>\n",
       "    <tr>\n",
       "      <th>122</th>\n",
       "      <td>[sun, ah, thk, mayb, dun, anythin, thk, book, ...</td>\n",
       "      <td>Non-Spam</td>\n",
       "    </tr>\n",
       "    <tr>\n",
       "      <th>123</th>\n",
       "      <td>[symptom, u, love, 1u, like, listening, song, ...</td>\n",
       "      <td>Non-Spam</td>\n",
       "    </tr>\n",
       "    <tr>\n",
       "      <th>124</th>\n",
       "      <td>[great, safe, trip, dont, panic, surrender]</td>\n",
       "      <td>Non-Spam</td>\n",
       "    </tr>\n",
       "  </tbody>\n",
       "</table>\n",
       "<p>125 rows × 2 columns</p>\n",
       "</div>"
      ],
      "text/plain": [
       "                                               message     label\n",
       "0    [upgrdcentre, orange, customer, may, claim, fr...      Spam\n",
       "1    [loan, purpose, £500, £75000, homeowner, tenan...      Spam\n",
       "2    [congrats, nokia, 3650, video, camera, phone, ...      Spam\n",
       "3    [urgent, mobile, number, awarded, £2000, prize...      Spam\n",
       "4    [someone, contacted, dating, service, entered,...      Spam\n",
       "..                                                 ...       ...\n",
       "120  [7, wonder, world, 7th, 6th, ur, style, 5th, u...  Non-Spam\n",
       "121      [try, something, dear, read, something, exam]  Non-Spam\n",
       "122  [sun, ah, thk, mayb, dun, anythin, thk, book, ...  Non-Spam\n",
       "123  [symptom, u, love, 1u, like, listening, song, ...  Non-Spam\n",
       "124        [great, safe, trip, dont, panic, surrender]  Non-Spam\n",
       "\n",
       "[125 rows x 2 columns]"
      ]
     },
     "execution_count": 41,
     "metadata": {},
     "output_type": "execute_result"
    }
   ],
   "source": [
    "test"
   ]
  },
  {
   "cell_type": "code",
   "execution_count": 42,
   "id": "1ab0a50f",
   "metadata": {
    "execution": {
     "iopub.execute_input": "2022-01-24T06:47:48.944908Z",
     "iopub.status.busy": "2022-01-24T06:47:48.944300Z",
     "iopub.status.idle": "2022-01-24T06:47:48.947892Z",
     "shell.execute_reply": "2022-01-24T06:47:48.948445Z",
     "shell.execute_reply.started": "2022-01-24T06:44:49.399657Z"
    },
    "id": "RRsWvCXzsXUL",
    "papermill": {
     "duration": 0.05964,
     "end_time": "2022-01-24T06:47:48.948612",
     "exception": false,
     "start_time": "2022-01-24T06:47:48.888972",
     "status": "completed"
    },
    "tags": []
   },
   "outputs": [],
   "source": [
    "from sklearn.feature_extraction.text import TfidfVectorizer"
   ]
  },
  {
   "cell_type": "code",
   "execution_count": 43,
   "id": "308f4140",
   "metadata": {
    "execution": {
     "iopub.execute_input": "2022-01-24T06:47:49.049483Z",
     "iopub.status.busy": "2022-01-24T06:47:49.048844Z",
     "iopub.status.idle": "2022-01-24T06:47:49.053010Z",
     "shell.execute_reply": "2022-01-24T06:47:49.052513Z",
     "shell.execute_reply.started": "2022-01-24T06:44:49.411408Z"
    },
    "id": "0NLGD78HsZt-",
    "papermill": {
     "duration": 0.057312,
     "end_time": "2022-01-24T06:47:49.053143",
     "exception": false,
     "start_time": "2022-01-24T06:47:48.995831",
     "status": "completed"
    },
    "tags": []
   },
   "outputs": [],
   "source": [
    "def reconstruct(x):\n",
    "  resstr = ' '.join(x)\n",
    "  return resstr"
   ]
  },
  {
   "cell_type": "code",
   "execution_count": 44,
   "id": "0825b45c",
   "metadata": {
    "execution": {
     "iopub.execute_input": "2022-01-24T06:47:49.151547Z",
     "iopub.status.busy": "2022-01-24T06:47:49.150605Z",
     "iopub.status.idle": "2022-01-24T06:47:49.157420Z",
     "shell.execute_reply": "2022-01-24T06:47:49.157851Z",
     "shell.execute_reply.started": "2022-01-24T06:44:49.424212Z"
    },
    "id": "vxgcV03lscez",
    "papermill": {
     "duration": 0.057346,
     "end_time": "2022-01-24T06:47:49.158059",
     "exception": false,
     "start_time": "2022-01-24T06:47:49.100713",
     "status": "completed"
    },
    "tags": []
   },
   "outputs": [],
   "source": [
    "train['message'] = train['message'].apply(reconstruct)"
   ]
  },
  {
   "cell_type": "code",
   "execution_count": 45,
   "id": "76916867",
   "metadata": {
    "execution": {
     "iopub.execute_input": "2022-01-24T06:47:49.260061Z",
     "iopub.status.busy": "2022-01-24T06:47:49.259104Z",
     "iopub.status.idle": "2022-01-24T06:47:49.265188Z",
     "shell.execute_reply": "2022-01-24T06:47:49.265629Z",
     "shell.execute_reply.started": "2022-01-24T06:44:49.440262Z"
    },
    "id": "7GFQtmN3si7W",
    "outputId": "f20b3122-ad9b-4c05-caa2-14fa4aaeba6a",
    "papermill": {
     "duration": 0.060168,
     "end_time": "2022-01-24T06:47:49.265793",
     "exception": false,
     "start_time": "2022-01-24T06:47:49.205625",
     "status": "completed"
    },
    "tags": []
   },
   "outputs": [
    {
     "data": {
      "text/html": [
       "<div>\n",
       "<style scoped>\n",
       "    .dataframe tbody tr th:only-of-type {\n",
       "        vertical-align: middle;\n",
       "    }\n",
       "\n",
       "    .dataframe tbody tr th {\n",
       "        vertical-align: top;\n",
       "    }\n",
       "\n",
       "    .dataframe thead th {\n",
       "        text-align: right;\n",
       "    }\n",
       "</style>\n",
       "<table border=\"1\" class=\"dataframe\">\n",
       "  <thead>\n",
       "    <tr style=\"text-align: right;\">\n",
       "      <th></th>\n",
       "      <th>message</th>\n",
       "      <th>label</th>\n",
       "    </tr>\n",
       "  </thead>\n",
       "  <tbody>\n",
       "    <tr>\n",
       "      <th>0</th>\n",
       "      <td>rofl true name</td>\n",
       "      <td>Non-Spam</td>\n",
       "    </tr>\n",
       "    <tr>\n",
       "      <th>1</th>\n",
       "      <td>guy bitching acted like id interested buying s...</td>\n",
       "      <td>Non-Spam</td>\n",
       "    </tr>\n",
       "    <tr>\n",
       "      <th>2</th>\n",
       "      <td>pity mood soany suggestion</td>\n",
       "      <td>Non-Spam</td>\n",
       "    </tr>\n",
       "    <tr>\n",
       "      <th>3</th>\n",
       "      <td>ü b going esplanade fr home</td>\n",
       "      <td>Non-Spam</td>\n",
       "    </tr>\n",
       "    <tr>\n",
       "      <th>4</th>\n",
       "      <td>2nd time tried 2 contact u u £750 pound prize ...</td>\n",
       "      <td>Spam</td>\n",
       "    </tr>\n",
       "  </tbody>\n",
       "</table>\n",
       "</div>"
      ],
      "text/plain": [
       "                                             message     label\n",
       "0                                     rofl true name  Non-Spam\n",
       "1  guy bitching acted like id interested buying s...  Non-Spam\n",
       "2                         pity mood soany suggestion  Non-Spam\n",
       "3                        ü b going esplanade fr home  Non-Spam\n",
       "4  2nd time tried 2 contact u u £750 pound prize ...      Spam"
      ]
     },
     "execution_count": 45,
     "metadata": {},
     "output_type": "execute_result"
    }
   ],
   "source": [
    "train.head()"
   ]
  },
  {
   "cell_type": "code",
   "execution_count": 46,
   "id": "f8f1134b",
   "metadata": {
    "execution": {
     "iopub.execute_input": "2022-01-24T06:47:49.364171Z",
     "iopub.status.busy": "2022-01-24T06:47:49.363226Z",
     "iopub.status.idle": "2022-01-24T06:47:49.368079Z",
     "shell.execute_reply": "2022-01-24T06:47:49.367446Z",
     "shell.execute_reply.started": "2022-01-24T06:44:49.458795Z"
    },
    "id": "_i7tShdFso33",
    "papermill": {
     "duration": 0.055343,
     "end_time": "2022-01-24T06:47:49.368223",
     "exception": false,
     "start_time": "2022-01-24T06:47:49.312880",
     "status": "completed"
    },
    "tags": []
   },
   "outputs": [],
   "source": [
    "tf = TfidfVectorizer(lowercase=False)"
   ]
  },
  {
   "cell_type": "code",
   "execution_count": 47,
   "id": "78be1de3",
   "metadata": {
    "execution": {
     "iopub.execute_input": "2022-01-24T06:47:49.478606Z",
     "iopub.status.busy": "2022-01-24T06:47:49.477913Z",
     "iopub.status.idle": "2022-01-24T06:47:49.493700Z",
     "shell.execute_reply": "2022-01-24T06:47:49.494363Z",
     "shell.execute_reply.started": "2022-01-24T06:44:49.469633Z"
    },
    "id": "vod85gVhsviu",
    "outputId": "516ecbfa-2c4b-4a05-c35e-2e7a8d414f35",
    "papermill": {
     "duration": 0.078143,
     "end_time": "2022-01-24T06:47:49.494567",
     "exception": false,
     "start_time": "2022-01-24T06:47:49.416424",
     "status": "completed"
    },
    "tags": []
   },
   "outputs": [
    {
     "data": {
      "text/plain": [
       "TfidfVectorizer(lowercase=False)"
      ]
     },
     "execution_count": 47,
     "metadata": {},
     "output_type": "execute_result"
    }
   ],
   "source": [
    "tf.fit(train['message'])"
   ]
  },
  {
   "cell_type": "code",
   "execution_count": 48,
   "id": "0f4c6f18",
   "metadata": {
    "execution": {
     "iopub.execute_input": "2022-01-24T06:47:49.593835Z",
     "iopub.status.busy": "2022-01-24T06:47:49.592876Z",
     "iopub.status.idle": "2022-01-24T06:47:49.631014Z",
     "shell.execute_reply": "2022-01-24T06:47:49.631501Z",
     "shell.execute_reply.started": "2022-01-24T06:44:49.510341Z"
    },
    "id": "8RZN_uLIs7s2",
    "papermill": {
     "duration": 0.089473,
     "end_time": "2022-01-24T06:47:49.631679",
     "exception": false,
     "start_time": "2022-01-24T06:47:49.542206",
     "status": "completed"
    },
    "tags": []
   },
   "outputs": [],
   "source": [
    "data = tf.transform(train['message']).toarray()"
   ]
  },
  {
   "cell_type": "code",
   "execution_count": 49,
   "id": "020f28f3",
   "metadata": {
    "execution": {
     "iopub.execute_input": "2022-01-24T06:47:49.731574Z",
     "iopub.status.busy": "2022-01-24T06:47:49.730647Z",
     "iopub.status.idle": "2022-01-24T06:47:49.736117Z",
     "shell.execute_reply": "2022-01-24T06:47:49.736573Z",
     "shell.execute_reply.started": "2022-01-24T06:44:49.556435Z"
    },
    "id": "bmbamRz1tBpU",
    "outputId": "3078ff29-0c4f-43d1-c293-f7a92962b63f",
    "papermill": {
     "duration": 0.056892,
     "end_time": "2022-01-24T06:47:49.736739",
     "exception": false,
     "start_time": "2022-01-24T06:47:49.679847",
     "status": "completed"
    },
    "tags": []
   },
   "outputs": [
    {
     "data": {
      "text/plain": [
       "array([[0., 0., 0., ..., 0., 0., 0.],\n",
       "       [0., 0., 0., ..., 0., 0., 0.],\n",
       "       [0., 0., 0., ..., 0., 0., 0.],\n",
       "       ...,\n",
       "       [0., 0., 0., ..., 0., 0., 0.],\n",
       "       [0., 0., 0., ..., 0., 0., 0.],\n",
       "       [0., 0., 0., ..., 0., 0., 0.]])"
      ]
     },
     "execution_count": 49,
     "metadata": {},
     "output_type": "execute_result"
    }
   ],
   "source": [
    "data"
   ]
  },
  {
   "cell_type": "code",
   "execution_count": 50,
   "id": "ab581b81",
   "metadata": {
    "execution": {
     "iopub.execute_input": "2022-01-24T06:47:49.835736Z",
     "iopub.status.busy": "2022-01-24T06:47:49.834840Z",
     "iopub.status.idle": "2022-01-24T06:47:49.953324Z",
     "shell.execute_reply": "2022-01-24T06:47:49.952783Z",
     "shell.execute_reply.started": "2022-01-24T06:44:49.566746Z"
    },
    "id": "P6jPIlq_tFVu",
    "papermill": {
     "duration": 0.169112,
     "end_time": "2022-01-24T06:47:49.953470",
     "exception": false,
     "start_time": "2022-01-24T06:47:49.784358",
     "status": "completed"
    },
    "tags": []
   },
   "outputs": [],
   "source": [
    "from sklearn.ensemble import RandomForestClassifier"
   ]
  },
  {
   "cell_type": "code",
   "execution_count": 51,
   "id": "bf068c70",
   "metadata": {
    "execution": {
     "iopub.execute_input": "2022-01-24T06:47:50.053280Z",
     "iopub.status.busy": "2022-01-24T06:47:50.052672Z",
     "iopub.status.idle": "2022-01-24T06:47:50.056114Z",
     "shell.execute_reply": "2022-01-24T06:47:50.056529Z",
     "shell.execute_reply.started": "2022-01-24T06:44:49.681049Z"
    },
    "id": "hQPPgAbWtH3v",
    "papermill": {
     "duration": 0.054516,
     "end_time": "2022-01-24T06:47:50.056698",
     "exception": false,
     "start_time": "2022-01-24T06:47:50.002182",
     "status": "completed"
    },
    "tags": []
   },
   "outputs": [],
   "source": [
    "ds = RandomForestClassifier()"
   ]
  },
  {
   "cell_type": "code",
   "execution_count": 52,
   "id": "eb69a4c2",
   "metadata": {
    "execution": {
     "iopub.execute_input": "2022-01-24T06:47:50.156580Z",
     "iopub.status.busy": "2022-01-24T06:47:50.155674Z",
     "iopub.status.idle": "2022-01-24T06:47:51.222171Z",
     "shell.execute_reply": "2022-01-24T06:47:51.221670Z",
     "shell.execute_reply.started": "2022-01-24T06:44:49.686884Z"
    },
    "id": "s5pa6v09tKo3",
    "outputId": "01c3a872-b907-4ef1-adf4-4b25575f741d",
    "papermill": {
     "duration": 1.117348,
     "end_time": "2022-01-24T06:47:51.222351",
     "exception": false,
     "start_time": "2022-01-24T06:47:50.105003",
     "status": "completed"
    },
    "tags": []
   },
   "outputs": [
    {
     "data": {
      "text/plain": [
       "RandomForestClassifier()"
      ]
     },
     "execution_count": 52,
     "metadata": {},
     "output_type": "execute_result"
    }
   ],
   "source": [
    "ds.fit(data,train['label'])"
   ]
  },
  {
   "cell_type": "code",
   "execution_count": 53,
   "id": "7c23fa88",
   "metadata": {
    "execution": {
     "iopub.execute_input": "2022-01-24T06:47:51.327387Z",
     "iopub.status.busy": "2022-01-24T06:47:51.326667Z",
     "iopub.status.idle": "2022-01-24T06:47:51.328719Z",
     "shell.execute_reply": "2022-01-24T06:47:51.329162Z",
     "shell.execute_reply.started": "2022-01-24T06:44:50.726418Z"
    },
    "id": "CpD1-nLFtQQV",
    "papermill": {
     "duration": 0.057802,
     "end_time": "2022-01-24T06:47:51.329341",
     "exception": false,
     "start_time": "2022-01-24T06:47:51.271539",
     "status": "completed"
    },
    "tags": []
   },
   "outputs": [],
   "source": [
    "test['message'] = test['message'].apply(reconstruct)"
   ]
  },
  {
   "cell_type": "code",
   "execution_count": 54,
   "id": "de0f9b13",
   "metadata": {
    "execution": {
     "iopub.execute_input": "2022-01-24T06:47:51.433676Z",
     "iopub.status.busy": "2022-01-24T06:47:51.433030Z",
     "iopub.status.idle": "2022-01-24T06:47:51.435448Z",
     "shell.execute_reply": "2022-01-24T06:47:51.435871Z",
     "shell.execute_reply.started": "2022-01-24T06:44:50.733879Z"
    },
    "id": "duQDm9GXtRuu",
    "outputId": "f589aa8b-53a1-45ff-c346-95d9d17b6f95",
    "papermill": {
     "duration": 0.056916,
     "end_time": "2022-01-24T06:47:51.436059",
     "exception": false,
     "start_time": "2022-01-24T06:47:51.379143",
     "status": "completed"
    },
    "tags": []
   },
   "outputs": [
    {
     "data": {
      "text/plain": [
       "(125, 2)"
      ]
     },
     "execution_count": 54,
     "metadata": {},
     "output_type": "execute_result"
    }
   ],
   "source": [
    "test.shape"
   ]
  },
  {
   "cell_type": "code",
   "execution_count": 55,
   "id": "bd73e0aa",
   "metadata": {
    "execution": {
     "iopub.execute_input": "2022-01-24T06:47:51.541420Z",
     "iopub.status.busy": "2022-01-24T06:47:51.540731Z",
     "iopub.status.idle": "2022-01-24T06:47:51.545158Z",
     "shell.execute_reply": "2022-01-24T06:47:51.545589Z",
     "shell.execute_reply.started": "2022-01-24T06:44:50.752762Z"
    },
    "id": "0lHT3HfEtbWI",
    "papermill": {
     "duration": 0.061386,
     "end_time": "2022-01-24T06:47:51.545765",
     "exception": false,
     "start_time": "2022-01-24T06:47:51.484379",
     "status": "completed"
    },
    "tags": []
   },
   "outputs": [],
   "source": [
    "test_input = tf.transform(test['message']).toarray()"
   ]
  },
  {
   "cell_type": "code",
   "execution_count": 56,
   "id": "96b1a338",
   "metadata": {
    "execution": {
     "iopub.execute_input": "2022-01-24T06:47:51.649590Z",
     "iopub.status.busy": "2022-01-24T06:47:51.648817Z",
     "iopub.status.idle": "2022-01-24T06:47:51.652814Z",
     "shell.execute_reply": "2022-01-24T06:47:51.652347Z",
     "shell.execute_reply.started": "2022-01-24T06:44:50.768728Z"
    },
    "id": "hhBGKxvPtimQ",
    "outputId": "91f68acc-3336-4680-f064-28dd0305a226",
    "papermill": {
     "duration": 0.058399,
     "end_time": "2022-01-24T06:47:51.653001",
     "exception": false,
     "start_time": "2022-01-24T06:47:51.594602",
     "status": "completed"
    },
    "tags": []
   },
   "outputs": [
    {
     "data": {
      "text/plain": [
       "(125, 2)"
      ]
     },
     "execution_count": 56,
     "metadata": {},
     "output_type": "execute_result"
    }
   ],
   "source": [
    "test.shape"
   ]
  },
  {
   "cell_type": "code",
   "execution_count": 57,
   "id": "dbccb8a8",
   "metadata": {
    "execution": {
     "iopub.execute_input": "2022-01-24T06:47:51.755445Z",
     "iopub.status.busy": "2022-01-24T06:47:51.754455Z",
     "iopub.status.idle": "2022-01-24T06:47:51.771722Z",
     "shell.execute_reply": "2022-01-24T06:47:51.771243Z",
     "shell.execute_reply.started": "2022-01-24T06:44:50.779241Z"
    },
    "id": "vvH8wQBatY9X",
    "papermill": {
     "duration": 0.070125,
     "end_time": "2022-01-24T06:47:51.771878",
     "exception": false,
     "start_time": "2022-01-24T06:47:51.701753",
     "status": "completed"
    },
    "tags": []
   },
   "outputs": [],
   "source": [
    "pred_out = ds.predict(test_input)"
   ]
  },
  {
   "cell_type": "code",
   "execution_count": 58,
   "id": "112bf601",
   "metadata": {
    "execution": {
     "iopub.execute_input": "2022-01-24T06:47:51.872877Z",
     "iopub.status.busy": "2022-01-24T06:47:51.872261Z",
     "iopub.status.idle": "2022-01-24T06:47:51.876713Z",
     "shell.execute_reply": "2022-01-24T06:47:51.877132Z",
     "shell.execute_reply.started": "2022-01-24T06:44:50.807486Z"
    },
    "id": "efE0kTdvtiFt",
    "outputId": "f4cec48b-eca3-4514-eaee-8d1fd1103291",
    "papermill": {
     "duration": 0.056571,
     "end_time": "2022-01-24T06:47:51.877337",
     "exception": false,
     "start_time": "2022-01-24T06:47:51.820766",
     "status": "completed"
    },
    "tags": []
   },
   "outputs": [
    {
     "data": {
      "text/plain": [
       "array(['Spam', 'Non-Spam', 'Spam', 'Spam', 'Non-Spam', 'Non-Spam', 'Spam',\n",
       "       'Non-Spam', 'Spam', 'Spam', 'Spam', 'Spam', 'Non-Spam', 'Spam',\n",
       "       'Spam', 'Spam', 'Non-Spam', 'Non-Spam', 'Spam', 'Spam', 'Spam',\n",
       "       'Spam', 'Non-Spam', 'Spam', 'Non-Spam', 'Non-Spam', 'Spam',\n",
       "       'Non-Spam', 'Spam', 'Spam', 'Non-Spam', 'Non-Spam', 'Non-Spam',\n",
       "       'Spam', 'Non-Spam', 'Spam', 'Spam', 'Spam', 'Spam', 'Spam', 'Spam',\n",
       "       'Spam', 'Non-Spam', 'Non-Spam', 'Non-Spam', 'Spam', 'Spam', 'Spam',\n",
       "       'Spam', 'Spam', 'Spam', 'Non-Spam', 'Spam', 'Spam', 'Non-Spam',\n",
       "       'Non-Spam', 'Spam', 'Non-Spam', 'Non-Spam', 'Non-Spam', 'Spam',\n",
       "       'Spam', 'Spam', 'Spam', 'Non-Spam', 'Spam', 'Non-Spam', 'Non-Spam',\n",
       "       'Non-Spam', 'Non-Spam', 'Non-Spam', 'Non-Spam', 'Non-Spam',\n",
       "       'Non-Spam', 'Spam', 'Non-Spam', 'Non-Spam', 'Non-Spam', 'Non-Spam',\n",
       "       'Non-Spam', 'Non-Spam', 'Non-Spam', 'Non-Spam', 'Non-Spam', 'Spam',\n",
       "       'Non-Spam', 'Non-Spam', 'Non-Spam', 'Non-Spam', 'Non-Spam',\n",
       "       'Non-Spam', 'Non-Spam', 'Spam', 'Non-Spam', 'Non-Spam', 'Non-Spam',\n",
       "       'Non-Spam', 'Spam', 'Spam', 'Spam', 'Non-Spam', 'Non-Spam', 'Spam',\n",
       "       'Non-Spam', 'Non-Spam', 'Non-Spam', 'Non-Spam', 'Non-Spam',\n",
       "       'Non-Spam', 'Non-Spam', 'Non-Spam', 'Non-Spam', 'Non-Spam',\n",
       "       'Non-Spam', 'Non-Spam', 'Non-Spam', 'Non-Spam', 'Non-Spam',\n",
       "       'Non-Spam', 'Non-Spam', 'Non-Spam', 'Non-Spam', 'Non-Spam',\n",
       "       'Non-Spam', 'Non-Spam'], dtype=object)"
      ]
     },
     "execution_count": 58,
     "metadata": {},
     "output_type": "execute_result"
    }
   ],
   "source": [
    "pred_out"
   ]
  },
  {
   "cell_type": "code",
   "execution_count": 59,
   "id": "e686f6ea",
   "metadata": {
    "execution": {
     "iopub.execute_input": "2022-01-24T06:47:51.981001Z",
     "iopub.status.busy": "2022-01-24T06:47:51.980379Z",
     "iopub.status.idle": "2022-01-24T06:47:51.983462Z",
     "shell.execute_reply": "2022-01-24T06:47:51.983875Z",
     "shell.execute_reply.started": "2022-01-24T06:44:50.815785Z"
    },
    "id": "DWT39EEstmao",
    "papermill": {
     "duration": 0.056436,
     "end_time": "2022-01-24T06:47:51.984066",
     "exception": false,
     "start_time": "2022-01-24T06:47:51.927630",
     "status": "completed"
    },
    "tags": []
   },
   "outputs": [],
   "source": [
    "from sklearn.metrics import accuracy_score"
   ]
  },
  {
   "cell_type": "code",
   "execution_count": 60,
   "id": "65697bf9",
   "metadata": {
    "execution": {
     "iopub.execute_input": "2022-01-24T06:47:52.092950Z",
     "iopub.status.busy": "2022-01-24T06:47:52.092290Z",
     "iopub.status.idle": "2022-01-24T06:47:52.094656Z",
     "shell.execute_reply": "2022-01-24T06:47:52.095107Z",
     "shell.execute_reply.started": "2022-01-24T06:44:50.827467Z"
    },
    "id": "PuKPBlOAtqEZ",
    "outputId": "11e24f99-9a94-4991-f98c-a0993552d636",
    "papermill": {
     "duration": 0.060464,
     "end_time": "2022-01-24T06:47:52.095275",
     "exception": false,
     "start_time": "2022-01-24T06:47:52.034811",
     "status": "completed"
    },
    "tags": []
   },
   "outputs": [
    {
     "data": {
      "text/plain": [
       "0.776"
      ]
     },
     "execution_count": 60,
     "metadata": {},
     "output_type": "execute_result"
    }
   ],
   "source": [
    "accuracy_score(pred_out,test['label'])"
   ]
  },
  {
   "cell_type": "code",
   "execution_count": 61,
   "id": "147c1ca8",
   "metadata": {
    "execution": {
     "iopub.execute_input": "2022-01-24T06:47:52.199326Z",
     "iopub.status.busy": "2022-01-24T06:47:52.198704Z",
     "iopub.status.idle": "2022-01-24T06:47:52.200427Z",
     "shell.execute_reply": "2022-01-24T06:47:52.200818Z",
     "shell.execute_reply.started": "2022-01-24T06:44:50.843003Z"
    },
    "id": "zyJlPV-otvhH",
    "papermill": {
     "duration": 0.055237,
     "end_time": "2022-01-24T06:47:52.201009",
     "exception": false,
     "start_time": "2022-01-24T06:47:52.145772",
     "status": "completed"
    },
    "tags": []
   },
   "outputs": [],
   "source": [
    "pred_msg = 'FREE RINGTONE text FIRST to 87131 for a poly or text GET to 87131 for a true tone! Help? 0845 2814032 16 after 1st free, tones are 3x£150pw to e£nd txt stop'"
   ]
  },
  {
   "cell_type": "code",
   "execution_count": 62,
   "id": "87f43fce",
   "metadata": {
    "execution": {
     "iopub.execute_input": "2022-01-24T06:47:52.302855Z",
     "iopub.status.busy": "2022-01-24T06:47:52.302203Z",
     "iopub.status.idle": "2022-01-24T06:47:52.306671Z",
     "shell.execute_reply": "2022-01-24T06:47:52.307121Z",
     "shell.execute_reply.started": "2022-01-24T06:44:50.854071Z"
    },
    "id": "dbbu2dRZuCsQ",
    "papermill": {
     "duration": 0.056759,
     "end_time": "2022-01-24T06:47:52.307305",
     "exception": false,
     "start_time": "2022-01-24T06:47:52.250546",
     "status": "completed"
    },
    "tags": []
   },
   "outputs": [],
   "source": [
    "pred_msg = tf.transform([pred_msg]).toarray()"
   ]
  },
  {
   "cell_type": "code",
   "execution_count": 63,
   "id": "219077c2",
   "metadata": {
    "execution": {
     "iopub.execute_input": "2022-01-24T06:47:52.410725Z",
     "iopub.status.busy": "2022-01-24T06:47:52.410097Z",
     "iopub.status.idle": "2022-01-24T06:47:52.414274Z",
     "shell.execute_reply": "2022-01-24T06:47:52.414680Z",
     "shell.execute_reply.started": "2022-01-24T06:44:50.867992Z"
    },
    "id": "G4nvyEsFuD1X",
    "outputId": "2f11a75b-a86a-4e72-8207-e65cf99b0a3d",
    "papermill": {
     "duration": 0.05758,
     "end_time": "2022-01-24T06:47:52.414862",
     "exception": false,
     "start_time": "2022-01-24T06:47:52.357282",
     "status": "completed"
    },
    "tags": []
   },
   "outputs": [
    {
     "data": {
      "text/plain": [
       "array([[0., 0., 0., ..., 0., 0., 0.]])"
      ]
     },
     "execution_count": 63,
     "metadata": {},
     "output_type": "execute_result"
    }
   ],
   "source": [
    "pred_msg"
   ]
  },
  {
   "cell_type": "code",
   "execution_count": 64,
   "id": "2fec5316",
   "metadata": {
    "execution": {
     "iopub.execute_input": "2022-01-24T06:47:52.519612Z",
     "iopub.status.busy": "2022-01-24T06:47:52.518599Z",
     "iopub.status.idle": "2022-01-24T06:47:52.532844Z",
     "shell.execute_reply": "2022-01-24T06:47:52.533278Z",
     "shell.execute_reply.started": "2022-01-24T06:44:50.880674Z"
    },
    "id": "9inBnef6uH2N",
    "outputId": "dd9a3b2f-c9f7-4831-d731-cff6ed0fc17d",
    "papermill": {
     "duration": 0.068468,
     "end_time": "2022-01-24T06:47:52.533452",
     "exception": false,
     "start_time": "2022-01-24T06:47:52.464984",
     "status": "completed"
    },
    "tags": []
   },
   "outputs": [
    {
     "data": {
      "text/plain": [
       "array(['Spam'], dtype=object)"
      ]
     },
     "execution_count": 64,
     "metadata": {},
     "output_type": "execute_result"
    }
   ],
   "source": [
    "ds.predict(pred_msg)"
   ]
  }
 ],
 "metadata": {
  "kernelspec": {
   "display_name": "Python 3",
   "language": "python",
   "name": "python3"
  },
  "language_info": {
   "codemirror_mode": {
    "name": "ipython",
    "version": 3
   },
   "file_extension": ".py",
   "mimetype": "text/x-python",
   "name": "python",
   "nbconvert_exporter": "python",
   "pygments_lexer": "ipython3",
   "version": "3.7.12"
  },
  "papermill": {
   "default_parameters": {},
   "duration": 63.021009,
   "end_time": "2022-01-24T06:47:53.595468",
   "environment_variables": {},
   "exception": null,
   "input_path": "__notebook__.ipynb",
   "output_path": "__notebook__.ipynb",
   "parameters": {},
   "start_time": "2022-01-24T06:46:50.574459",
   "version": "2.3.3"
  }
 },
 "nbformat": 4,
 "nbformat_minor": 5
}
